{
 "cells": [
  {
   "cell_type": "markdown",
   "metadata": {},
   "source": [
    "# Map patients to relapse networks"
   ]
  },
  {
   "cell_type": "code",
   "execution_count": 1,
   "metadata": {},
   "outputs": [
    {
     "ename": "ModuleNotFoundError",
     "evalue": "No module named 'miner_20190520'",
     "output_type": "error",
     "traceback": [
      "\u001b[0;31m---------------------------------------------------------------------------\u001b[0m",
      "\u001b[0;31mModuleNotFoundError\u001b[0m                       Traceback (most recent call last)",
      "\u001b[0;32m<ipython-input-1-0624c4bbe363>\u001b[0m in \u001b[0;36m<module>\u001b[0;34m\u001b[0m\n\u001b[1;32m      3\u001b[0m \u001b[0;32mimport\u001b[0m \u001b[0mscipy\u001b[0m\u001b[0;34m,\u001b[0m\u001b[0mscipy\u001b[0m\u001b[0;34m.\u001b[0m\u001b[0mstats\u001b[0m\u001b[0;34m\u001b[0m\u001b[0;34m\u001b[0m\u001b[0m\n\u001b[1;32m      4\u001b[0m \u001b[0;34m\u001b[0m\u001b[0m\n\u001b[0;32m----> 5\u001b[0;31m \u001b[0;32mimport\u001b[0m \u001b[0mminer_20190520\u001b[0m \u001b[0;32mas\u001b[0m \u001b[0mminer\u001b[0m\u001b[0;34m\u001b[0m\u001b[0;34m\u001b[0m\u001b[0m\n\u001b[0m\u001b[1;32m      6\u001b[0m \u001b[0;34m\u001b[0m\u001b[0m\n\u001b[1;32m      7\u001b[0m \u001b[0;32mimport\u001b[0m \u001b[0mpandas\u001b[0m\u001b[0;34m\u001b[0m\u001b[0;34m\u001b[0m\u001b[0m\n",
      "\u001b[0;31mModuleNotFoundError\u001b[0m: No module named 'miner_20190520'"
     ]
    }
   ],
   "source": [
    "import os,importlib,numpy,json\n",
    "\n",
    "import scipy,scipy.stats\n",
    "\n",
    "import miner_20190520 as miner\n",
    "\n",
    "import pandas\n",
    "pandas.options.display.max_rows=100\n",
    "pandas.set_option('display.max_colwidth',-1)\n",
    "\n",
    "import matplotlib,matplotlib.pyplot\n",
    "matplotlib.pyplot.rcParams['axes.axisbelow']=True\n",
    "matplotlib.rcParams.update({'font.size':18,'font.family':'Arial','xtick.labelsize':20,'ytick.labelsize':20,'axes.labelsize':30})\n",
    "matplotlib.rcParams['pdf.fonttype']=42"
   ]
  },
  {
   "cell_type": "markdown",
   "metadata": {},
   "source": [
    "# 0. User defined variables"
   ]
  },
  {
   "cell_type": "code",
   "execution_count": null,
   "metadata": {},
   "outputs": [],
   "source": [
    "expression_data_file='/Users/adrianlopezgarciadelomana/gd/projects/MINER/shared/MINER/data/expression/IA12Zscore.csv'\n",
    "regulonDf_file='/Users/adrianlopezgarciadelomana/gd/projects/MINER/shared/MINER/results_minCorrelation_0o2_50_allFiles/regulonDf.csv'\n",
    "overExpressedMembersMatrix_file='/Users/adrianlopezgarciadelomana/gd/projects/MINER/shared/MINER/results_minCorrelation_0o2_50_allFiles/overExpressedMembers.csv'"
   ]
  },
  {
   "cell_type": "code",
   "execution_count": null,
   "metadata": {},
   "outputs": [],
   "source": [
    "expression_data_file='/Users/alomana/Google Drive File Stream/My Drive/projects/MINER/shared/MINER/data/expression/IA12Zscore.csv'\n",
    "regulonDf_file='/Users/alomana/Google Drive File Stream/My Drive/projects/MINER/shared/MINER/results_minCorrelation_0o2_50_allFiles/regulonDf.csv'\n",
    "overExpressedMembersMatrix_file='/Users/alomana/Google Drive File Stream/My Drive/projects/MINER/shared/MINER/results_minCorrelation_0o2_50_allFiles/overExpressedMembers.csv'"
   ]
  },
  {
   "cell_type": "markdown",
   "metadata": {},
   "source": [
    "# 1. Read data"
   ]
  },
  {
   "cell_type": "code",
   "execution_count": null,
   "metadata": {},
   "outputs": [],
   "source": [
    "expressionData, conversionTable = miner.preprocess(expression_data_file)"
   ]
  },
  {
   "cell_type": "code",
   "execution_count": null,
   "metadata": {},
   "outputs": [],
   "source": [
    "regulonDf = pandas.read_csv(regulonDf_file,index_col=0,header=0)"
   ]
  },
  {
   "cell_type": "code",
   "execution_count": null,
   "metadata": {},
   "outputs": [],
   "source": [
    "overExpressedMembersMatrix = pandas.read_csv(overExpressedMembersMatrix_file,index_col=0,header=0)"
   ]
  },
  {
   "cell_type": "markdown",
   "metadata": {},
   "source": [
    "# 2.  Analysis"
   ]
  },
  {
   "cell_type": "markdown",
   "metadata": {},
   "source": [
    "## 2.1 Find relapse signatures using all baseline"
   ]
  },
  {
   "cell_type": "code",
   "execution_count": null,
   "metadata": {},
   "outputs": [],
   "source": [
    "# Define phenotypes of interest\n",
    "all_patients=[patient for patient in list(expressionData.columns) if patient.split('_')[-1] == 'BM']\n",
    "baseline_patients=[pat for pat in all_patients if pat.split(\"_\")[2] == '1']\n",
    "first_relapse_patients=[pat for pat in all_patients if pat.split(\"_\")[2] == '2']\n",
    "relapse_patients=[pat for pat in all_patients if pat.split(\"_\")[2] != '1']\n",
    "multiple_relapse_patients=list(set(relapse_patients)-set(first_relapse_patients))\n",
    "\n",
    "phenotype1=baseline_patients\n",
    "phenotype2=relapse_patients\n",
    "\n",
    "print('Found {} background events.'.format(len(phenotype1)))\n",
    "print(phenotype1[:10])\n",
    "print('')\n",
    "print('Found {} relapse events.'.format(len(phenotype2)))\n",
    "print(phenotype2[:10])"
   ]
  },
  {
   "cell_type": "code",
   "execution_count": null,
   "metadata": {},
   "outputs": [],
   "source": [
    "volcano_data = miner.differentialActivity(regulon_matrix = regulonDf.copy(),reference_matrix = overExpressedMembersMatrix.copy(),baseline_patients=phenotype1,relapse_patients=phenotype2,maxRegulons = 3,minRegulons = 3,useAllRegulons = False,savefile = 'figure.pdf')"
   ]
  },
  {
   "cell_type": "code",
   "execution_count": null,
   "metadata": {},
   "outputs": [],
   "source": [
    "volcano_data.head()"
   ]
  },
  {
   "cell_type": "code",
   "execution_count": null,
   "metadata": {},
   "outputs": [],
   "source": [
    "insigvoldata_patients = volcano_data.index[volcano_data[\"-log10(p)\"]<=-numpy.log10(0.05)]\n",
    "sigvoldata_patients_plus = volcano_data.index[(volcano_data[\"-log10(p)\"] > -numpy.log10(0.05)) & (volcano_data['log2(phenotype2/phenotype1)'] > 0)]\n",
    "sigvoldata_patients_minus = volcano_data.index[(volcano_data[\"-log10(p)\"] > -numpy.log10(0.05)) & (volcano_data['log2(phenotype2/phenotype1)'] < 0)]\n",
    "\n",
    "insigvoldata = volcano_data.loc[insigvoldata_patients,:]\n",
    "sigvoldata_plus = volcano_data.loc[sigvoldata_patients_plus,:]\n",
    "sigvoldata_minus = volcano_data.loc[sigvoldata_patients_minus,:]\n",
    "\n",
    "fig = matplotlib.pyplot.figure(figsize=(20,10))\n",
    "\n",
    "matplotlib.pyplot.scatter(sigvoldata_plus[\"phenotype2_frequency\"],numpy.array(sigvoldata_plus[\"log2(phenotype2/phenotype1)\"]),color = 'red',alpha=0.2,s=75,linewidths=0)\n",
    "\n",
    "matplotlib.pyplot.scatter(sigvoldata_minus[\"phenotype2_frequency\"],numpy.array(sigvoldata_minus[\"log2(phenotype2/phenotype1)\"]),color = 'blue',alpha=0.2,s=100,linewidths=0)\n",
    "\n",
    "matplotlib.pyplot.scatter(insigvoldata[\"phenotype2_frequency\"],numpy.array(insigvoldata[\"log2(phenotype2/phenotype1)\"]),color ='black',edgecolor = [0.1,0.1,0.1],alpha=0.2,s=75,linewidths=0)\n",
    "\n",
    "matplotlib.pyplot.ylabel(\"log2 FC R/B gene activity \")\n",
    "matplotlib.pyplot.xlabel(\"Relapse overexpression frequency\")\n",
    "matplotlib.pyplot.title('Relapse vs background',fontsize=40)\n",
    "matplotlib.pyplot.grid()\n",
    "matplotlib.pyplot.tight_layout()"
   ]
  },
  {
   "cell_type": "code",
   "execution_count": null,
   "metadata": {},
   "outputs": [],
   "source": [
    "print(sigvoldata_plus.shape)\n",
    "print(sigvoldata_minus.shape)\n",
    "full_df=pandas.concat([sigvoldata_plus,sigvoldata_minus])\n",
    "print(full_df.shape)\n",
    "full_df.rename(columns={'phenotype1_frequency':'background_frequency','phenotype2_frequency':'relapse_frequency','log2(phenotype2/phenotype1)':'log2(relapse/background)'},inplace=True)\n",
    "full_df.to_csv(path_or_buf='relapse_vs_background.v2.csv')\n",
    "full_df.head()"
   ]
  },
  {
   "cell_type": "markdown",
   "metadata": {},
   "source": [
    "## 2.2 Find relapse signatures using matched patients"
   ]
  },
  {
   "cell_type": "code",
   "execution_count": null,
   "metadata": {},
   "outputs": [],
   "source": [
    "relapse_events = [pat for pat in all_patients if pat.split(\"_\")[2] != '1']\n",
    "relapse_events.sort()\n",
    "\n",
    "baseline_patients=[]; relapse_patients=[]\n",
    "\n",
    "for event in relapse_events:\n",
    "    label=event.split('_')[1]\n",
    "    baseline_label='MMRF_{}_1_BM'.format(label)\n",
    "    if baseline_label in all_patients:\n",
    "        baseline_patients.append(baseline_label)\n",
    "        if 'BM' in event:\n",
    "            relapse_patients.append(event)\n",
    "        \n",
    "baseline_patients=list(set(baseline_patients))\n",
    "relapse_patients=list(set(relapse_patients))\n",
    "\n",
    "baseline_patients.sort()\n",
    "relapse_patients.sort()\n",
    "\n",
    "phenotype1 = baseline_patients\n",
    "phenotype2 = relapse_patients\n",
    "\n",
    "print('Found {} baseline events.'.format(len(phenotype1)))\n",
    "print(phenotype1[:10])\n",
    "print('')\n",
    "print('Found {} relapse events.'.format(len(phenotype2)))\n",
    "print(phenotype2[:10])"
   ]
  },
  {
   "cell_type": "code",
   "execution_count": null,
   "metadata": {},
   "outputs": [],
   "source": [
    "volcano_data = miner.differentialActivity(regulon_matrix = regulonDf.copy(),reference_matrix = overExpressedMembersMatrix.copy(),baseline_patients=phenotype1,relapse_patients=phenotype2,maxRegulons = 3,minRegulons = 3,useAllRegulons = False)\n",
    "volcano_data.head()"
   ]
  },
  {
   "cell_type": "code",
   "execution_count": null,
   "metadata": {},
   "outputs": [],
   "source": [
    "insigvoldata_patients = volcano_data.index[volcano_data[\"-log10(p)\"]<=-numpy.log10(0.05)]\n",
    "sigvoldata_patients_plus = volcano_data.index[(volcano_data[\"-log10(p)\"] > -numpy.log10(0.05)) & (volcano_data['log2(phenotype2/phenotype1)'] > 0)]\n",
    "sigvoldata_patients_minus = volcano_data.index[(volcano_data[\"-log10(p)\"] > -numpy.log10(0.05)) & (volcano_data['log2(phenotype2/phenotype1)'] < 0)]\n",
    "\n",
    "insigvoldata = volcano_data.loc[insigvoldata_patients,:]\n",
    "sigvoldata_plus = volcano_data.loc[sigvoldata_patients_plus,:]\n",
    "sigvoldata_minus = volcano_data.loc[sigvoldata_patients_minus,:]\n",
    "\n",
    "fig = matplotlib.pyplot.figure(figsize=(20,10))\n",
    "\n",
    "matplotlib.pyplot.scatter(sigvoldata_plus[\"phenotype2_frequency\"],numpy.array(sigvoldata_plus[\"log2(phenotype2/phenotype1)\"]),color = 'red',alpha=0.2,s=75,linewidths=0)\n",
    "\n",
    "matplotlib.pyplot.scatter(sigvoldata_minus[\"phenotype2_frequency\"],numpy.array(sigvoldata_minus[\"log2(phenotype2/phenotype1)\"]),color = 'blue',alpha=0.2,s=100,linewidths=0)\n",
    "\n",
    "matplotlib.pyplot.scatter(insigvoldata[\"phenotype2_frequency\"],numpy.array(insigvoldata[\"log2(phenotype2/phenotype1)\"]),color ='black',edgecolor = [0.1,0.1,0.1],alpha=0.2,s=75,linewidths=0)\n",
    "\n",
    "matplotlib.pyplot.ylabel(\"log2 FC R/B gene activity \")\n",
    "matplotlib.pyplot.xlabel(\"Relapse overexpression frequency\")\n",
    "matplotlib.pyplot.title('Relapse vs baseline',fontsize=40)\n",
    "\n",
    "matplotlib.pyplot.grid()\n",
    "matplotlib.pyplot.tight_layout()"
   ]
  },
  {
   "cell_type": "code",
   "execution_count": null,
   "metadata": {},
   "outputs": [],
   "source": [
    "print(sigvoldata_plus.shape)\n",
    "print(sigvoldata_minus.shape)\n",
    "full_df=pandas.concat([sigvoldata_plus,sigvoldata_minus])\n",
    "print(full_df.shape)\n",
    "full_df.rename(columns={'phenotype1_frequency':'baseline_frequency','phenotype2_frequency':'relapse_frequency','log2(phenotype2/phenotype1)':'log2(baseline/background)'},inplace=True)\n",
    "full_df.to_csv(path_or_buf='relapse_vs_baseline.v2.csv')\n",
    "full_df.head()"
   ]
  },
  {
   "cell_type": "markdown",
   "metadata": {},
   "source": [
    "# 3. Functional annotation of relapse-baseline networks"
   ]
  },
  {
   "cell_type": "code",
   "execution_count": null,
   "metadata": {},
   "outputs": [],
   "source": [
    "def reactome_formatter(json_file):\n",
    "        \n",
    "    output_file=json_file.replace('.json','_formatted.txt')\n",
    "    synonyms_up='/Volumes/omics4tb2/alomana/projects/MINER/up_synonyms.txt'\n",
    "    synonyms_down='/Volumes/omics4tb2/alomana/projects/MINER/down_synonyms.txt'\n",
    "    \n",
    "    # read synonyms files\n",
    "    synonyms={}\n",
    "    for reg in [synonyms_up,synonyms_down]:\n",
    "        with open(reg,'r') as s:\n",
    "            for line in s:\n",
    "                v=line.split('\\t')\n",
    "                ensemblID=v[1]\n",
    "                gene_name=v[2].split(';')[0]\n",
    "                gene_symbol=v[2].split(';')[1]\n",
    "                synonyms[ensemblID]=[gene_symbol,gene_name]\n",
    "    # end read synonyms file\n",
    "    \n",
    "    g=open(output_file,'w')\n",
    "    g.write('Level\\tTerm\\tBackground rank\\tFound rank\\tExpected rank\\tFold enrichment\\tSign\\tP-value\\tTranscripts\\tGene symbols\\tGene names\\n')\n",
    "    \n",
    "    with open(json_file,'r') as f:\n",
    "        data = json.load(f)\n",
    "        for group in data['overrepresentation']['group']:\n",
    "            if type(group) == dict:\n",
    "                if type(group['result']) == list:\n",
    "                    pathways=group['result']\n",
    "                elif type(group['result']) == dict:\n",
    "                    pathways=[group['result']]\n",
    "                else:\n",
    "                    print('ERROR: value not considered for variable group[result].')\n",
    "                \n",
    "                for element in pathways:\n",
    "                        \n",
    "                    sign=element['input_list']['plus_minus']\n",
    "                    if sign == '+':\n",
    "                                                                        \n",
    "                        level=element['term']['level']\n",
    "                        term=element['term']['label']\n",
    "                        background_rank=element['number_in_reference']\n",
    "                        found_rank=element['input_list']['number_in_list']\n",
    "                        expected_rank=element['input_list']['expected']\n",
    "                        fold_enrichment=element['input_list']['fold_enrichment']\n",
    "                        pvalue=element['input_list']['pValue']\n",
    "                        \n",
    "                        working_variable=element['input_list']['mapped_id_list']['mapped_id']\n",
    "                        if type(working_variable) == list:\n",
    "                            transcripts=working_variable\n",
    "                            gene_symbols=[synonyms[ID][0] for ID in transcripts]\n",
    "                            gene_names=[synonyms[ID][1] for ID in transcripts]\n",
    "                        elif type(working_variable) == str:\n",
    "                            transcripts=[working_variable]\n",
    "                            gene_symbols=[synonyms[transcripts[0]][0]]\n",
    "                            gene_names=[synonyms[transcripts[0]][1]]\n",
    "                        else:\n",
    "                            print('ERROR: value not considered for variable working_variable.')\n",
    "                            \n",
    "                        transcripts_string=', '.join(transcripts)\n",
    "                        gene_symbols_string=', '.join(gene_symbols)\n",
    "                        gene_names_string=', '.join(gene_names)\n",
    "\n",
    "                        g.write('{}\\t'.format(level))\n",
    "                        g.write('{}\\t'.format(term))\n",
    "                        g.write('{}\\t'.format(background_rank))\n",
    "                        g.write('{}\\t'.format(found_rank))\n",
    "                        g.write('{}\\t'.format(expected_rank))\n",
    "                        g.write('{}\\t'.format(fold_enrichment))\n",
    "                        g.write('{}\\t'.format(sign))\n",
    "                        g.write('{}\\t'.format(pvalue))\n",
    "                        g.write('{}\\t'.format(transcripts_string))\n",
    "                        g.write('{}\\t'.format(gene_symbols_string))\n",
    "                        g.write('{}'.format(gene_names_string))\n",
    "\n",
    "                        g.write('\\n')\n",
    "        \n",
    "    g.close()\n",
    "    \n",
    "    return output_file"
   ]
  },
  {
   "cell_type": "code",
   "execution_count": null,
   "metadata": {},
   "outputs": [],
   "source": [
    "def panther_formatter(json_file):\n",
    "        \n",
    "    output_file=json_file.replace('.json','_formatted.txt')\n",
    "    synonyms_up='/Volumes/omics4tb2/alomana/projects/MINER/up_synonyms.txt'\n",
    "    synonyms_down='/Volumes/omics4tb2/alomana/projects/MINER/down_synonyms.txt'\n",
    "    \n",
    "    # read synonyms files\n",
    "    synonyms={}\n",
    "    for reg in [synonyms_up,synonyms_down]:\n",
    "        with open(reg,'r') as s:\n",
    "            for line in s:\n",
    "                v=line.split('\\t')\n",
    "                ensemblID=v[1]\n",
    "                gene_name=v[2].split(';')[0]\n",
    "                gene_symbol=v[2].split(';')[1]\n",
    "                synonyms[ensemblID]=[gene_symbol,gene_name]\n",
    "    # end read synonyms file\n",
    "    \n",
    "    g=open(output_file,'w')\n",
    "    g.write('Term\\tBackground rank\\tFound rank\\tExpected rank\\tFold enrichment\\tSign\\tP-value\\tTranscripts\\tGene symbols\\tGene names\\n')\n",
    "    \n",
    "    with open(json_file,'r') as f:\n",
    "        data = json.load(f)\n",
    "        for group in data['overrepresentation']['group']:\n",
    "            if type(group) == dict:\n",
    "                if type(group['result']) == list:\n",
    "                    pathways=group['result']\n",
    "                elif type(group['result']) == dict:\n",
    "                    pathways=[group['result']]\n",
    "                else:\n",
    "                    print('ERROR: value not considered for variable group[result].')\n",
    "                \n",
    "                for element in pathways:\n",
    "                    pvalue=element['input_list']['pValue']\n",
    "                    sign=element['input_list']['plus_minus']\n",
    "                    \n",
    "                    if pvalue < 0.05 and sign == '+':\n",
    "                        \n",
    "                        term=element['term']['label']\n",
    "                        background_rank=element['number_in_reference']\n",
    "                        found_rank=element['input_list']['number_in_list']\n",
    "                        expected_rank=element['input_list']['expected']\n",
    "                        fold_enrichment=element['input_list']['fold_enrichment']\n",
    "                        \n",
    "                        working_variable=element['input_list']['mapped_id_list']['mapped_id']\n",
    "                        transcripts=working_variable\n",
    "                        gene_symbols=[synonyms[ID][0] for ID in transcripts]\n",
    "                        gene_names=[synonyms[ID][1] for ID in transcripts]\n",
    "                        \n",
    "                        transcripts_string=', '.join(transcripts)\n",
    "                        gene_symbols_string=', '.join(gene_symbols)\n",
    "                        gene_names_string=', '.join(gene_names)\n",
    "\n",
    "                        g.write('{}\\t'.format(term))\n",
    "                        g.write('{}\\t'.format(background_rank))\n",
    "                        g.write('{}\\t'.format(found_rank))\n",
    "                        g.write('{}\\t'.format(expected_rank))\n",
    "                        g.write('{}\\t'.format(fold_enrichment))\n",
    "                        g.write('{}\\t'.format(sign))\n",
    "                        g.write('{}\\t'.format(pvalue))\n",
    "                        g.write('{}\\t'.format(transcripts_string))\n",
    "                        g.write('{}\\t'.format(gene_symbols_string))\n",
    "                        g.write('{}'.format(gene_names_string))\n",
    "\n",
    "                        g.write('\\n')\n",
    "                    \n",
    "    g.close()\n",
    "    \n",
    "    return output_file"
   ]
  },
  {
   "cell_type": "markdown",
   "metadata": {},
   "source": [
    "## 3.1. Upregulation"
   ]
  },
  {
   "cell_type": "code",
   "execution_count": null,
   "metadata": {},
   "outputs": [],
   "source": [
    "json_file='/Volumes/omics4tb2/alomana/projects/MINER/up_reactome_pathways.json'\n",
    "output_file=reactome_formatter(json_file)\n",
    "df=pandas.read_csv(output_file,sep='\\t',index_col='Term')\n",
    "print(df.shape)\n",
    "df.head(n=df.shape[0])"
   ]
  },
  {
   "cell_type": "code",
   "execution_count": null,
   "metadata": {},
   "outputs": [],
   "source": [
    "specifics=df['Level'] == 0\n",
    "new=df[specifics]\n",
    "print(new.shape)\n",
    "new.head(n=new.shape[0])"
   ]
  },
  {
   "cell_type": "markdown",
   "metadata": {},
   "source": [
    "## 3.2. Downregulation"
   ]
  },
  {
   "cell_type": "code",
   "execution_count": null,
   "metadata": {},
   "outputs": [],
   "source": [
    "\n",
    "json_file='/Volumes/omics4tb2/alomana/projects/MINER/down_panther_pathways.json'\n",
    "output_file=panther_formatter(json_file)\n",
    "df=pandas.read_csv(output_file,sep='\\t',index_col='Term')\n",
    "print(df.shape)\n",
    "df.head(n=df.shape[0])"
   ]
  }
 ],
 "metadata": {
  "kernelspec": {
   "display_name": "Python 3",
   "language": "python",
   "name": "python3"
  },
  "language_info": {
   "codemirror_mode": {
    "name": "ipython",
    "version": 3
   },
   "file_extension": ".py",
   "mimetype": "text/x-python",
   "name": "python",
   "nbconvert_exporter": "python",
   "pygments_lexer": "ipython3",
   "version": "3.7.4"
  }
 },
 "nbformat": 4,
 "nbformat_minor": 2
}
