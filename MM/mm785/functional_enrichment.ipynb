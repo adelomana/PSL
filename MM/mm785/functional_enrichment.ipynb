{
 "cells": [
  {
   "cell_type": "code",
   "execution_count": 1,
   "metadata": {},
   "outputs": [],
   "source": [
    "import json,os"
   ]
  },
  {
   "cell_type": "code",
   "execution_count": 2,
   "metadata": {},
   "outputs": [],
   "source": [
    "def analysis(json_file):\n",
    "    \n",
    "    color=json_file.split('.')[0]\n",
    "    amigo_file=amigo_dir+'{}.json'.format(color)\n",
    "    output_file=amigo_dir+'{}_formatted.txt'.format(color)\n",
    "    \n",
    "    g=open(output_file,'w')\n",
    "    g.write('Level\\tTerm\\tBackground rank\\tFound rank\\tExpected rank\\tFold enrichment\\tSign\\tP-value\\tGenes\\n')\n",
    "\n",
    "    with open(amigo_file,'r') as f:\n",
    "        data = json.load(f)\n",
    "        for group in data['overrepresentation']['group']:\n",
    "            for element in group['result']:\n",
    "                if type(element) == dict:\n",
    "                    #print('element',type(element),element.keys(),element['term'])\n",
    "\n",
    "                    level=element['term']['level']\n",
    "                    term=element['term']['label']\n",
    "                    background_rank=element['number_in_reference']\n",
    "                    found_rank=element['input_list']['number_in_list']\n",
    "                    expected_rank=element['input_list']['expected']\n",
    "                    fold_enrichment=element['input_list']['fold_enrichment']\n",
    "                    sign=element['input_list']['plus_minus']\n",
    "                    pvalue=element['input_list']['pValue']\n",
    "                    proteins=','.join(element['input_list']['mapped_id_list']['mapped_id'])\n",
    "\n",
    "                    g.write('{}\\t'.format(level))\n",
    "                    g.write('{}\\t'.format(term))\n",
    "                    g.write('{}\\t'.format(background_rank))\n",
    "                    g.write('{}\\t'.format(found_rank))\n",
    "                    g.write('{}\\t'.format(expected_rank))\n",
    "                    g.write('{}\\t'.format(fold_enrichment))\n",
    "                    g.write('{}\\t'.format(sign))\n",
    "                    g.write('{}\\t'.format(pvalue))\n",
    "                    g.write('{}\\t'.format(proteins))\n",
    "\n",
    "                    g.write('\\n')\n",
    "\n",
    "    g.close()\n",
    "    \n",
    "    return None"
   ]
  },
  {
   "cell_type": "code",
   "execution_count": 3,
   "metadata": {},
   "outputs": [],
   "source": [
    "amigo_dir=''\n",
    "element='analysis2.json'\n",
    "analysis(element)"
   ]
  },
  {
   "cell_type": "code",
   "execution_count": null,
   "metadata": {},
   "outputs": [],
   "source": []
  }
 ],
 "metadata": {
  "kernelspec": {
   "display_name": "Python 3",
   "language": "python",
   "name": "python3"
  },
  "language_info": {
   "codemirror_mode": {
    "name": "ipython",
    "version": 3
   },
   "file_extension": ".py",
   "mimetype": "text/x-python",
   "name": "python",
   "nbconvert_exporter": "python",
   "pygments_lexer": "ipython3",
   "version": "3.7.4"
  }
 },
 "nbformat": 4,
 "nbformat_minor": 2
}
