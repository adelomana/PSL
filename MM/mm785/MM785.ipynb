{
 "cells": [
  {
   "cell_type": "code",
   "execution_count": 1,
   "metadata": {},
   "outputs": [
    {
     "ename": "ModuleNotFoundError",
     "evalue": "No module named 'miner_20190520'",
     "output_type": "error",
     "traceback": [
      "\u001b[0;31m---------------------------------------------------------------------------\u001b[0m",
      "\u001b[0;31mModuleNotFoundError\u001b[0m                       Traceback (most recent call last)",
      "\u001b[0;32m<ipython-input-1-d78cc9beddee>\u001b[0m in \u001b[0;36m<module>\u001b[0;34m\u001b[0m\n\u001b[1;32m      3\u001b[0m \u001b[0;32mimport\u001b[0m \u001b[0mmatplotlib\u001b[0m\u001b[0;34m,\u001b[0m\u001b[0mmatplotlib\u001b[0m\u001b[0;34m.\u001b[0m\u001b[0mpyplot\u001b[0m\u001b[0;34m\u001b[0m\u001b[0;34m\u001b[0m\u001b[0m\n\u001b[1;32m      4\u001b[0m \u001b[0;32mimport\u001b[0m \u001b[0mscipy\u001b[0m\u001b[0;34m,\u001b[0m\u001b[0mscipy\u001b[0m\u001b[0;34m.\u001b[0m\u001b[0mstats\u001b[0m\u001b[0;34m\u001b[0m\u001b[0;34m\u001b[0m\u001b[0m\n\u001b[0;32m----> 5\u001b[0;31m \u001b[0;32mimport\u001b[0m \u001b[0mminer_20190520\u001b[0m \u001b[0;32mas\u001b[0m \u001b[0mminer\u001b[0m\u001b[0;34m\u001b[0m\u001b[0;34m\u001b[0m\u001b[0m\n\u001b[0m\u001b[1;32m      6\u001b[0m \u001b[0;34m\u001b[0m\u001b[0m\n\u001b[1;32m      7\u001b[0m \u001b[0mmatplotlib\u001b[0m\u001b[0;34m.\u001b[0m\u001b[0mpyplot\u001b[0m\u001b[0;34m.\u001b[0m\u001b[0mrcParams\u001b[0m\u001b[0;34m[\u001b[0m\u001b[0;34m'axes.axisbelow'\u001b[0m\u001b[0;34m]\u001b[0m \u001b[0;34m=\u001b[0m \u001b[0;32mTrue\u001b[0m\u001b[0;34m\u001b[0m\u001b[0;34m\u001b[0m\u001b[0m\n",
      "\u001b[0;31mModuleNotFoundError\u001b[0m: No module named 'miner_20190520'"
     ]
    }
   ],
   "source": [
    "import pandas,os,importlib,numpy\n",
    "\n",
    "import matplotlib,matplotlib.pyplot\n",
    "import scipy,scipy.stats\n",
    "import miner_20190520 as miner\n",
    "\n",
    "matplotlib.pyplot.rcParams['axes.axisbelow'] = True\n",
    "matplotlib.rcParams.update({'font.size':18,'font.family':'Arial','xtick.labelsize':20,'ytick.labelsize':20,'axes.labelsize':30})\n",
    "matplotlib.rcParams['pdf.fonttype']=42"
   ]
  },
  {
   "cell_type": "code",
   "execution_count": null,
   "metadata": {},
   "outputs": [],
   "source": [
    "patient=['amp1q','t414','del13'] # plus trisomy 5, not found in MMRF. Trisomy 5 is better prognosis on t4;14 patients"
   ]
  },
  {
   "cell_type": "markdown",
   "metadata": {},
   "source": [
    "# 1. Read cytogenetics"
   ]
  },
  {
   "cell_type": "code",
   "execution_count": null,
   "metadata": {},
   "outputs": [],
   "source": [
    "cytogenetics_file='/Users/adrianlopezgarciadelomana/gd/projects/MINER/shared/MINER/data/mutations/cytogenetics.csv'\n",
    "calls_file='/Users/adrianlopezgarciadelomana/gd/projects/MINER/shared/MINER/data/mutations/translocationsIA12.csv'"
   ]
  },
  {
   "cell_type": "code",
   "execution_count": null,
   "metadata": {},
   "outputs": [],
   "source": [
    "cytogenetics_file='/Users/alomana/Google Drive File Stream/My Drive/projects/MINER/shared/MINER/data/mutations/cytogenetics.csv'\n",
    "calls_file='/Users/alomana/Google Drive File Stream/My Drive/projects/MINER/shared/MINER/data/mutations/translocationsIA12.csv'"
   ]
  },
  {
   "cell_type": "code",
   "execution_count": null,
   "metadata": {},
   "outputs": [],
   "source": [
    "df=pandas.read_csv(cytogenetics_file,index_col=0)\n",
    "df"
   ]
  },
  {
   "cell_type": "code",
   "execution_count": null,
   "metadata": {},
   "outputs": [],
   "source": [
    "calls=pandas.read_csv(calls_file,index_col=0)\n",
    "calls"
   ]
  },
  {
   "cell_type": "markdown",
   "metadata": {},
   "source": [
    "# 2. Find similar patients"
   ]
  },
  {
   "cell_type": "code",
   "execution_count": null,
   "metadata": {},
   "outputs": [],
   "source": [
    "dft=df.T\n",
    "callsT=calls.T"
   ]
  },
  {
   "cell_type": "code",
   "execution_count": null,
   "metadata": {},
   "outputs": [],
   "source": [
    "#! make sure I clean for available rnaseq calls too.\n",
    "similar=dft[\n",
    "    (dft['amp1q'] == 1) & # \n",
    "    (dft['t414'] == 1) &  # whc1 \n",
    "    (dft['del13'] == 1) & # \n",
    "    #\n",
    "    (dft['del17'] == 0) & \n",
    "    (dft['t1114'] == 0) & # ccnd1\n",
    "    (dft['t1416'] == 0) & # maf\n",
    "    (dft['del17p'] == 0) & #\n",
    "    (dft['del1p'] == 0)\n",
    "]\n",
    "print(similar.shape)\n",
    "similar"
   ]
  },
  {
   "cell_type": "code",
   "execution_count": null,
   "metadata": {},
   "outputs": [],
   "source": [
    "callsT.head()\n",
    "a=similar.index.tolist()\n",
    "b=['RNASeq_WHSC1_Call','RNASeq_CCND1_Call','RNASeq_MAF_Call']\n",
    "callsT.loc[a][b]"
   ]
  },
  {
   "cell_type": "markdown",
   "metadata": {},
   "source": [
    "# 3. Map patients to relapse networks"
   ]
  },
  {
   "cell_type": "markdown",
   "metadata": {},
   "source": [
    "## 3.0. Info paths"
   ]
  },
  {
   "cell_type": "code",
   "execution_count": null,
   "metadata": {},
   "outputs": [],
   "source": [
    "expression_data_file='/Users/adrianlopezgarciadelomana/gd/projects/MINER/shared/MINER/data/expression/IA12Zscore.csv'\n",
    "regulonDf_file='/Users/adrianlopezgarciadelomana/gd/projects/MINER/shared/MINER/results_minCorrelation_0o2_50_allFiles/regulonDf.csv'\n",
    "overExpressedMembersMatrix_file='/Users/adrianlopezgarciadelomana/gd/projects/MINER/shared/MINER/results_minCorrelation_0o2_50_allFiles/overExpressedMembers.csv'"
   ]
  },
  {
   "cell_type": "code",
   "execution_count": null,
   "metadata": {},
   "outputs": [],
   "source": [
    "expression_data_file='/Users/alomana/Google Drive File Stream/My Drive/projects/MINER/shared/MINER/data/expression/IA12Zscore.csv'\n",
    "regulonDf_file='/Users/alomana/Google Drive File Stream/My Drive/projects/MINER/shared/MINER/results_minCorrelation_0o2_50_allFiles/regulonDf.csv'\n",
    "overExpressedMembersMatrix_file='/Users/alomana/Google Drive File Stream/My Drive/projects/MINER/shared/MINER/results_minCorrelation_0o2_50_allFiles/overExpressedMembers.csv'"
   ]
  },
  {
   "cell_type": "markdown",
   "metadata": {},
   "source": [
    "## 3.1. Read data"
   ]
  },
  {
   "cell_type": "code",
   "execution_count": null,
   "metadata": {},
   "outputs": [],
   "source": [
    "expressionData, conversionTable = miner.preprocess(expression_data_file)"
   ]
  },
  {
   "cell_type": "code",
   "execution_count": null,
   "metadata": {},
   "outputs": [],
   "source": [
    "regulonDf = pandas.read_csv(regulonDf_file,index_col=0,header=0)"
   ]
  },
  {
   "cell_type": "code",
   "execution_count": null,
   "metadata": {},
   "outputs": [],
   "source": [
    "overExpressedMembersMatrix = pandas.read_csv(overExpressedMembersMatrix_file,index_col=0,header=0)"
   ]
  },
  {
   "cell_type": "markdown",
   "metadata": {},
   "source": [
    "# explore relapse MMRF"
   ]
  },
  {
   "cell_type": "code",
   "execution_count": null,
   "metadata": {},
   "outputs": [],
   "source": [
    "target_labels=similar.index.tolist()\n",
    "target_ids=[element.split('_')[1] for element in target_labels]\n",
    "\n",
    "matches=[]\n",
    "mmrf_labels=expressionData.columns\n",
    "for element in mmrf_labels:\n",
    "    reference=element.split('_')[1]\n",
    "    if reference in target_ids:\n",
    "        matches.append(element)\n",
    "matches.sort()\n",
    "print(matches)"
   ]
  },
  {
   "cell_type": "markdown",
   "metadata": {},
   "source": [
    "## 3.2 Find relapse signatures using all baseline"
   ]
  },
  {
   "cell_type": "code",
   "execution_count": null,
   "metadata": {},
   "outputs": [],
   "source": [
    "# Define phenotypes of interest\n",
    "all_patients = expressionData.columns\n",
    "baseline_patients = [pat for pat in all_patients if pat.split(\"_\")[2]=='1']\n",
    "first_relapse_patients = [pat for pat in all_patients if pat.split(\"_\")[2]=='2']\n",
    "relapse_patients = [pat for pat in all_patients if pat.split(\"_\")[2]!='1']\n",
    "multiple_relapse_patients = list(set(relapse_patients)-set(first_relapse_patients))\n",
    "\n",
    "phenotype1 = baseline_patients\n",
    "phenotype2 = relapse_patients\n",
    "\n",
    "print(len(phenotype1))\n",
    "print(len(phenotype2))\n",
    "\n",
    "print(phenotype2[:10])"
   ]
  },
  {
   "cell_type": "code",
   "execution_count": null,
   "metadata": {},
   "outputs": [],
   "source": [
    "#importlib.reload(miner)\n",
    "volcano_data = miner.differentialActivity(regulon_matrix = regulonDf.copy(),reference_matrix = overExpressedMembersMatrix.copy(),baseline_patients=phenotype1,relapse_patients=phenotype2,maxRegulons = 3,minRegulons = 3,useAllRegulons = False,savefile = 'figure.pdf')"
   ]
  },
  {
   "cell_type": "code",
   "execution_count": null,
   "metadata": {},
   "outputs": [],
   "source": [
    "volcano_data.head()"
   ]
  },
  {
   "cell_type": "code",
   "execution_count": null,
   "metadata": {},
   "outputs": [],
   "source": [
    "ikzf1 = \"ENSG00000185811\"\n",
    "\n",
    "insigvoldata_patients = volcano_data.index[volcano_data[\"-log10(p)\"]<=-numpy.log10(0.05)]\n",
    "sigvoldata_patients_plus = volcano_data.index[(volcano_data[\"-log10(p)\"] > -numpy.log10(0.05)) & (volcano_data['log2(phenotype2/phenotype1)'] > 0)]\n",
    "sigvoldata_patients_minus = volcano_data.index[(volcano_data[\"-log10(p)\"] > -numpy.log10(0.05)) & (volcano_data['log2(phenotype2/phenotype1)'] < 0)]\n",
    "\n",
    "print(sigvoldata_patients_plus,len(sigvoldata_patients_plus))\n",
    "\n",
    "insigvoldata = volcano_data.loc[insigvoldata_patients,:]\n",
    "sigvoldata_plus = volcano_data.loc[sigvoldata_patients_plus,:]\n",
    "sigvoldata_minus = volcano_data.loc[sigvoldata_patients_minus,:]\n",
    "\n",
    "fig = matplotlib.pyplot.figure(figsize=(20,10))\n",
    "\n",
    "matplotlib.pyplot.scatter(sigvoldata_plus[\"phenotype2_frequency\"],numpy.array(sigvoldata_plus[\"log2(phenotype2/phenotype1)\"]),color = 'red',alpha=0.2,s=75,linewidths=0)\n",
    "\n",
    "matplotlib.pyplot.scatter(sigvoldata_minus[\"phenotype2_frequency\"],numpy.array(sigvoldata_minus[\"log2(phenotype2/phenotype1)\"]),color = 'blue',alpha=0.2,s=100,linewidths=0)\n",
    "\n",
    "matplotlib.pyplot.scatter(insigvoldata[\"phenotype2_frequency\"],numpy.array(insigvoldata[\"log2(phenotype2/phenotype1)\"]),color ='black',edgecolor = [0.1,0.1,0.1],alpha=0.2,s=75,linewidths=0)\n",
    "\n",
    "matplotlib.pyplot.scatter(volcano_data.loc[ikzf1,\"phenotype2_frequency\"],numpy.array(volcano_data.loc[ikzf1,\"log2(phenotype2/phenotype1)\"]),color = 'green',s=75,linewidths=0)\n",
    "\n",
    "matplotlib.pyplot.xlim(-0.05,0.65)\n",
    "matplotlib.pyplot.ylim(-3.2,3.2)\n",
    "matplotlib.pyplot.ylabel(\"log2 FC R/B gene activity \")\n",
    "matplotlib.pyplot.xlabel(\"Relapse overexpression frequency\")\n",
    "matplotlib.pyplot.grid()\n",
    "matplotlib.pyplot.tight_layout()"
   ]
  },
  {
   "cell_type": "code",
   "execution_count": null,
   "metadata": {},
   "outputs": [],
   "source": [
    "subset_patients = volcano_data.index[(volcano_data[\"-log10(p)\"] > -numpy.log10(0.05)) & (volcano_data['log2(phenotype2/phenotype1)'] > 0.5) & (volcano_data['phenotype2_frequency'] > 0.5)]\n",
    "\n",
    "subset_data = volcano_data.loc[subset_patients,:]\n",
    "\n",
    "fig = matplotlib.pyplot.figure(figsize=(20,10))\n",
    "\n",
    "matplotlib.pyplot.scatter(subset_data[\"phenotype2_frequency\"],numpy.array(subset_data[\"log2(phenotype2/phenotype1)\"]),color = 'orange',alpha=0.2,s=75,linewidths=0)\n",
    "\n",
    "matplotlib.pyplot.xlim(-0.05,0.65)\n",
    "matplotlib.pyplot.ylim(-3.2,3.2)\n",
    "matplotlib.pyplot.ylabel(\"log2 FC R/B gene activity \")\n",
    "matplotlib.pyplot.xlabel(\"Relapse overexpression frequency\")\n",
    "matplotlib.pyplot.grid()\n",
    "matplotlib.pyplot.tight_layout()"
   ]
  },
  {
   "cell_type": "code",
   "execution_count": null,
   "metadata": {},
   "outputs": [],
   "source": [
    "subset_data.to_csv(path_or_buf='case_1.csv')"
   ]
  },
  {
   "cell_type": "markdown",
   "metadata": {},
   "source": [
    "## 3.3 Find relapse signatures using matched patients"
   ]
  },
  {
   "cell_type": "code",
   "execution_count": null,
   "metadata": {},
   "outputs": [],
   "source": [
    "print(len(all_patients))\n",
    "a=[element for element in all_patients if 'BM' in element]\n",
    "b=[element for element in all_patients if 'PB' in element]\n",
    "print(len(a),len(b),len(a)+len(b))"
   ]
  },
  {
   "cell_type": "code",
   "execution_count": null,
   "metadata": {},
   "outputs": [],
   "source": [
    "relapse_events = [pat for pat in all_patients if pat.split(\"_\")[2]!='1']\n",
    "relapse_events.sort()\n",
    "\n",
    "baseline_patients=[]; relapse_patients=[]\n",
    "\n",
    "for event in relapse_events:\n",
    "    label=event.split('_')[1]\n",
    "    baseline_label='MMRF_{}_1_BM'.format(label)\n",
    "    if baseline_label in all_patients:\n",
    "        baseline_patients.append(baseline_label)\n",
    "        if 'BM' in event:\n",
    "            relapse_patients.append(event)\n",
    "        \n",
    "baseline_patients=list(set(baseline_patients))\n",
    "relapse_patients=list(set(relapse_patients))\n",
    "\n",
    "baseline_patients.sort()\n",
    "relapse_patients.sort()\n",
    "\n",
    "print(baseline_patients,len(baseline_patients))\n",
    "print(relapse_patients,len(relapse_patients))"
   ]
  },
  {
   "cell_type": "code",
   "execution_count": null,
   "metadata": {},
   "outputs": [],
   "source": [
    "phenotype1 = baseline_patients\n",
    "phenotype2 = relapse_patients"
   ]
  },
  {
   "cell_type": "code",
   "execution_count": null,
   "metadata": {},
   "outputs": [],
   "source": [
    "volcano_data = miner.differentialActivity(regulon_matrix = regulonDf.copy(),reference_matrix = overExpressedMembersMatrix.copy(),baseline_patients=phenotype1,relapse_patients=phenotype2,maxRegulons = 3,minRegulons = 3,useAllRegulons = False)\n",
    "volcano_data.head()"
   ]
  },
  {
   "cell_type": "code",
   "execution_count": null,
   "metadata": {},
   "outputs": [],
   "source": [
    "insigvoldata_patients = volcano_data.index[volcano_data[\"-log10(p)\"]<=-numpy.log10(0.05)]\n",
    "sigvoldata_patients_plus = volcano_data.index[(volcano_data[\"-log10(p)\"] > -numpy.log10(0.05)) & (volcano_data['log2(phenotype2/phenotype1)'] > 0)]\n",
    "sigvoldata_patients_minus = volcano_data.index[(volcano_data[\"-log10(p)\"] > -numpy.log10(0.05)) & (volcano_data['log2(phenotype2/phenotype1)'] < 0)]\n",
    "\n",
    "insigvoldata = volcano_data.loc[insigvoldata_patients,:]\n",
    "sigvoldata_plus = volcano_data.loc[sigvoldata_patients_plus,:]\n",
    "sigvoldata_minus = volcano_data.loc[sigvoldata_patients_minus,:]\n",
    "\n",
    "fig = matplotlib.pyplot.figure(figsize=(20,10))\n",
    "\n",
    "matplotlib.pyplot.scatter(sigvoldata_plus[\"phenotype2_frequency\"],numpy.array(sigvoldata_plus[\"log2(phenotype2/phenotype1)\"]),color = 'red',alpha=0.2,s=75,linewidths=0)\n",
    "\n",
    "matplotlib.pyplot.scatter(sigvoldata_minus[\"phenotype2_frequency\"],numpy.array(sigvoldata_minus[\"log2(phenotype2/phenotype1)\"]),color = 'blue',alpha=0.2,s=100,linewidths=0)\n",
    "\n",
    "matplotlib.pyplot.scatter(insigvoldata[\"phenotype2_frequency\"],numpy.array(insigvoldata[\"log2(phenotype2/phenotype1)\"]),color ='black',edgecolor = [0.1,0.1,0.1],alpha=0.2,s=75,linewidths=0)\n",
    "\n",
    "matplotlib.pyplot.scatter(volcano_data.loc[ikzf1,\"phenotype2_frequency\"],numpy.array(volcano_data.loc[ikzf1,\"log2(phenotype2/phenotype1)\"]),color = 'green',s=75,linewidths=0)\n",
    "\n",
    "matplotlib.pyplot.xlim(-0.05,0.7)\n",
    "matplotlib.pyplot.ylim(-3.5,3.5)\n",
    "matplotlib.pyplot.ylabel(\"log2 FC R/B gene activity \")\n",
    "matplotlib.pyplot.xlabel(\"Relapse overexpression frequency\")\n",
    "matplotlib.pyplot.grid()\n",
    "matplotlib.pyplot.tight_layout()"
   ]
  },
  {
   "cell_type": "code",
   "execution_count": null,
   "metadata": {},
   "outputs": [],
   "source": [
    "subset_patients = volcano_data.index[(volcano_data[\"-log10(p)\"] > -numpy.log10(0.05)) & (volcano_data['log2(phenotype2/phenotype1)'] > 0.5) & (volcano_data['phenotype2_frequency'] > 0.55)]\n",
    "\n",
    "subset_data = volcano_data.loc[subset_patients,:]\n",
    "\n",
    "fig = matplotlib.pyplot.figure(figsize=(20,10))\n",
    "\n",
    "matplotlib.pyplot.scatter(subset_data[\"phenotype2_frequency\"],numpy.array(subset_data[\"log2(phenotype2/phenotype1)\"]),color = 'orange',alpha=0.2,s=75,linewidths=0)\n",
    "\n",
    "matplotlib.pyplot.xlim(-0.05,0.7)\n",
    "matplotlib.pyplot.ylim(-3.5,3.5)\n",
    "matplotlib.pyplot.ylabel(\"log2 FC R/B gene activity \")\n",
    "matplotlib.pyplot.xlabel(\"Relapse overexpression frequency\")\n",
    "matplotlib.pyplot.grid()\n",
    "matplotlib.pyplot.tight_layout()"
   ]
  },
  {
   "cell_type": "code",
   "execution_count": null,
   "metadata": {},
   "outputs": [],
   "source": [
    "subset_data.to_csv(path_or_buf='case_2.csv')"
   ]
  },
  {
   "cell_type": "markdown",
   "metadata": {},
   "source": [
    "## 3.4 Find relapse signatures using matched patients of specific cytogenetics"
   ]
  },
  {
   "cell_type": "code",
   "execution_count": null,
   "metadata": {},
   "outputs": [],
   "source": [
    "baseline_patients=['MMRF_1783_1_BM','MMRF_1433_1_BM']\n",
    "relapse_patients=['MMRF_1783_1_BM','MMRF_1433_2_BM','MMRF_1433_4_BM']\n",
    "phenotype1 = baseline_patients\n",
    "phenotype2 = relapse_patients"
   ]
  },
  {
   "cell_type": "code",
   "execution_count": null,
   "metadata": {},
   "outputs": [],
   "source": [
    "importlib.reload(miner)\n",
    "\n",
    "volcano_data = miner.differentialActivity(regulon_matrix = regulonDf.copy(),reference_matrix = overExpressedMembersMatrix.copy(),baseline_patients=phenotype1,relapse_patients=phenotype2,maxRegulons = 3,minRegulons = 3,useAllRegulons = True)\n",
    "volcano_data.head()"
   ]
  },
  {
   "cell_type": "code",
   "execution_count": null,
   "metadata": {},
   "outputs": [],
   "source": [
    "insigvoldata_patients = volcano_data.index[volcano_data[\"-log10(p)\"]<=-numpy.log10(0.05)]\n",
    "sigvoldata_patients_plus = volcano_data.index[(volcano_data[\"-log10(p)\"] > -numpy.log10(0.05)) & (volcano_data['log2(phenotype2/phenotype1)'] > 0)]\n",
    "sigvoldata_patients_minus = volcano_data.index[(volcano_data[\"-log10(p)\"] > -numpy.log10(0.05)) & (volcano_data['log2(phenotype2/phenotype1)'] < 0)]\n",
    "\n",
    "insigvoldata = volcano_data.loc[insigvoldata_patients,:]\n",
    "sigvoldata_plus = volcano_data.loc[sigvoldata_patients_plus,:]\n",
    "sigvoldata_minus = volcano_data.loc[sigvoldata_patients_minus,:]\n",
    "\n",
    "fig = matplotlib.pyplot.figure(figsize=(20,10))\n",
    "\n",
    "matplotlib.pyplot.scatter(sigvoldata_plus[\"phenotype2_frequency\"],numpy.array(sigvoldata_plus[\"log2(phenotype2/phenotype1)\"]),color = 'red',alpha=0.2,s=75,linewidths=0)\n",
    "\n",
    "matplotlib.pyplot.scatter(sigvoldata_minus[\"phenotype2_frequency\"],numpy.array(sigvoldata_minus[\"log2(phenotype2/phenotype1)\"]),color = 'blue',alpha=0.2,s=100,linewidths=0)\n",
    "\n",
    "matplotlib.pyplot.scatter(insigvoldata[\"phenotype2_frequency\"],numpy.array(insigvoldata[\"log2(phenotype2/phenotype1)\"]),color ='black',edgecolor = [0.1,0.1,0.1],alpha=0.2,s=75,linewidths=0)\n",
    "\n",
    "matplotlib.pyplot.scatter(volcano_data.loc[ikzf1,\"phenotype2_frequency\"],numpy.array(volcano_data.loc[ikzf1,\"log2(phenotype2/phenotype1)\"]),color = 'green',s=75,linewidths=0)\n",
    "\n",
    "#matplotlib.pyplot.xlim(-0.05,0.7)\n",
    "#matplotlib.pyplot.ylim(-3.5,3.5)\n",
    "matplotlib.pyplot.ylabel(\"log2 FC R/B gene activity \")\n",
    "matplotlib.pyplot.xlabel(\"Relapse overexpression frequency\")\n",
    "matplotlib.pyplot.grid()\n",
    "matplotlib.pyplot.tight_layout()"
   ]
  },
  {
   "cell_type": "code",
   "execution_count": null,
   "metadata": {},
   "outputs": [],
   "source": [
    "subset_patients = volcano_data.index[(volcano_data['log2(phenotype2/phenotype1)'] > 0.25) & (volcano_data['phenotype2_frequency'] > 2/3)]\n",
    "\n",
    "subset_data = volcano_data.loc[subset_patients,:]\n",
    "\n",
    "fig = matplotlib.pyplot.figure(figsize=(20,10))\n",
    "\n",
    "matplotlib.pyplot.scatter(subset_data[\"phenotype2_frequency\"],numpy.array(subset_data[\"log2(phenotype2/phenotype1)\"]),color = 'orange',alpha=0.2,s=75,linewidths=0)\n",
    "\n",
    "#matplotlib.pyplot.xlim(0.3,1.05)\n",
    "#matplotlib.pyplot.ylim(-1.6,0.90)\n",
    "matplotlib.pyplot.ylabel(\"log2 FC R/B gene activity \")\n",
    "matplotlib.pyplot.xlabel(\"Relapse overexpression frequency\")\n",
    "matplotlib.pyplot.grid()\n",
    "matplotlib.pyplot.tight_layout()"
   ]
  },
  {
   "cell_type": "code",
   "execution_count": null,
   "metadata": {},
   "outputs": [],
   "source": [
    "subset_data.to_csv(path_or_buf='case_3.csv')"
   ]
  },
  {
   "cell_type": "code",
   "execution_count": null,
   "metadata": {},
   "outputs": [],
   "source": [
    "# consider finding DETs in relapse, patient by patient with specific cytogenetics, then map to regulons"
   ]
  },
  {
   "cell_type": "markdown",
   "metadata": {},
   "source": [
    "# 4. Map patients to states"
   ]
  }
 ],
 "metadata": {
  "kernelspec": {
   "display_name": "Python 3",
   "language": "python",
   "name": "python3"
  },
  "language_info": {
   "codemirror_mode": {
    "name": "ipython",
    "version": 3
   },
   "file_extension": ".py",
   "mimetype": "text/x-python",
   "name": "python",
   "nbconvert_exporter": "python",
   "pygments_lexer": "ipython3",
   "version": "3.7.4"
  }
 },
 "nbformat": 4,
 "nbformat_minor": 2
}
